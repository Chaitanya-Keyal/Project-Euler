{
 "cells": [
  {
   "cell_type": "code",
   "execution_count": 42,
   "metadata": {},
   "outputs": [
    {
     "name": "stdout",
     "output_type": "stream",
     "text": [
      "210\n"
     ]
    }
   ],
   "source": [
    "d = [0]\n",
    "n = 0\n",
    "while len(d)<=1000000:\n",
    "    n+=1\n",
    "    d.extend(list(str(n)))\n",
    "\n",
    "for i in range(len(d)):\n",
    "    d[i] = int(d[i])\n",
    "\n",
    "print(d[1]*d[10]*d[100]*d[1000]*d[10000]*d[100000]*d[1000000])"
   ]
  }
 ],
 "metadata": {
  "interpreter": {
   "hash": "2f398f26849536f6182af917fd544bdfbd52fe4ccb1189a4aab55dce98229aad"
  },
  "kernelspec": {
   "display_name": "Python 3.10.0 64-bit",
   "language": "python",
   "name": "python3"
  },
  "language_info": {
   "codemirror_mode": {
    "name": "ipython",
    "version": 3
   },
   "file_extension": ".py",
   "mimetype": "text/x-python",
   "name": "python",
   "nbconvert_exporter": "python",
   "pygments_lexer": "ipython3",
   "version": "3.10.0"
  },
  "orig_nbformat": 4
 },
 "nbformat": 4,
 "nbformat_minor": 2
}
