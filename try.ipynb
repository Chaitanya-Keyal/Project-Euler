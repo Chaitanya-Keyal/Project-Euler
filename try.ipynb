{
 "cells": [
  {
   "cell_type": "code",
   "execution_count": 10,
   "metadata": {},
   "outputs": [
    {
     "name": "stdout",
     "output_type": "stream",
     "text": [
      "443839\n"
     ]
    }
   ],
   "source": [
    "def psum(n):\n",
    "    return sum(int(i)**5 for i in str(n))\n",
    "\n",
    "print(sum(i for i in range(2, 6*9**5) if i == psum(i)))\n"
   ]
  }
 ],
 "metadata": {
  "interpreter": {
   "hash": "2f398f26849536f6182af917fd544bdfbd52fe4ccb1189a4aab55dce98229aad"
  },
  "kernelspec": {
   "display_name": "Python 3.10.0 64-bit",
   "language": "python",
   "name": "python3"
  },
  "language_info": {
   "codemirror_mode": {
    "name": "ipython",
    "version": 3
   },
   "file_extension": ".py",
   "mimetype": "text/x-python",
   "name": "python",
   "nbconvert_exporter": "python",
   "pygments_lexer": "ipython3",
   "version": "3.10.0"
  },
  "orig_nbformat": 4
 },
 "nbformat": 4,
 "nbformat_minor": 2
}
