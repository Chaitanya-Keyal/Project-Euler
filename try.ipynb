{
 "cells": [
  {
   "cell_type": "code",
   "execution_count": 32,
   "metadata": {},
   "outputs": [
    {
     "name": "stdout",
     "output_type": "stream",
     "text": [
      "186 7254 39\n",
      "True\n",
      "157 4396 28\n",
      "297 5346 18\n",
      "483 5796 12\n",
      "1738 6952 4\n",
      "186 7254 39\n",
      "159 7632 48\n",
      "1963 7852 4\n",
      "45228\n"
     ]
    }
   ],
   "source": [
    "import math\n",
    "def pandigital(n):\n",
    "    for i in range(1, 10000):\n",
    "        if not n%i:\n",
    "            if ''.join(sorted(str(n) + str(i) + str(n // i))) == \"123456789\":\n",
    "                print(n//i,n,i)\n",
    "                return True\n",
    "    return False\n",
    "\n",
    "print(pandigital(7254))\n",
    "print(sum(i for i in range(1,10000) if pandigital(i)))"
   ]
  }
 ],
 "metadata": {
  "interpreter": {
   "hash": "2f398f26849536f6182af917fd544bdfbd52fe4ccb1189a4aab55dce98229aad"
  },
  "kernelspec": {
   "display_name": "Python 3.10.0 64-bit",
   "language": "python",
   "name": "python3"
  },
  "language_info": {
   "codemirror_mode": {
    "name": "ipython",
    "version": 3
   },
   "file_extension": ".py",
   "mimetype": "text/x-python",
   "name": "python",
   "nbconvert_exporter": "python",
   "pygments_lexer": "ipython3",
   "version": "3.10.0"
  },
  "orig_nbformat": 4
 },
 "nbformat": 4,
 "nbformat_minor": 2
}
