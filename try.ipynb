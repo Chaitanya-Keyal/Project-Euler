{
 "cells": [
  {
   "cell_type": "code",
   "execution_count": 104,
   "metadata": {},
   "outputs": [
    {
     "name": "stdout",
     "output_type": "stream",
     "text": [
      "997651\n"
     ]
    }
   ],
   "source": [
    "import itertools\n",
    "def isPrime(n):\n",
    "    if n==2:\n",
    "        return True\n",
    "    elif n<2 or not n%2:\n",
    "        return False\n",
    "    else:\n",
    "        for i in range(3,int(n**0.5)+1,2):\n",
    "            if not n%i:\n",
    "                return False\n",
    "        return True\n",
    "pr = []\n",
    "for i in range(1000000):\n",
    "    if isPrime(i):\n",
    "        pr.append(i)\n",
    "\n",
    "sumpr = list(itertools.accumulate(pr))\n",
    "\n",
    "n,l=0,0\n",
    "\n",
    "for i in range(l,len(sumpr)):\n",
    "    for j in range(i-l-1,-1,-1):\n",
    "        temp = sumpr[i]-sumpr[j]\n",
    "        if temp > 1000000:\n",
    "            break\n",
    "        if temp in pr:\n",
    "            l = i-j\n",
    "            n = temp\n",
    "\n",
    "print(n)"
   ]
  }
 ],
 "metadata": {
  "interpreter": {
   "hash": "2f398f26849536f6182af917fd544bdfbd52fe4ccb1189a4aab55dce98229aad"
  },
  "kernelspec": {
   "display_name": "Python 3.10.0 64-bit",
   "language": "python",
   "name": "python3"
  },
  "language_info": {
   "codemirror_mode": {
    "name": "ipython",
    "version": 3
   },
   "file_extension": ".py",
   "mimetype": "text/x-python",
   "name": "python",
   "nbconvert_exporter": "python",
   "pygments_lexer": "ipython3",
   "version": "3.10.0"
  },
  "orig_nbformat": 4
 },
 "nbformat": 4,
 "nbformat_minor": 2
}
